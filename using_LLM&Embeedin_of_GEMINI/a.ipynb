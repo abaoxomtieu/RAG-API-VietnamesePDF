{
 "cells": [
  {
   "cell_type": "code",
   "execution_count": 1,
   "metadata": {},
   "outputs": [
    {
     "data": {
      "text/plain": [
       "True"
      ]
     },
     "execution_count": 1,
     "metadata": {},
     "output_type": "execute_result"
    }
   ],
   "source": [
    "from langchain_google_genai import GoogleGenerativeAI, GoogleGenerativeAIEmbeddings\n",
    "from dotenv import load_dotenv\n",
    "import os\n",
    "from langchain_community.vectorstores import FAISS\n",
    "load_dotenv()\n"
   ]
  },
  {
   "cell_type": "code",
   "execution_count": 2,
   "metadata": {},
   "outputs": [],
   "source": [
    "# Load LLM model\n",
    "vector_db_path = \"vectorstores/db_faiss\"\n",
    "\n",
    "GOOGLE_API_KEY = os.getenv(\"GOOGLE_API_KEY\")\n",
    "embedding = GoogleGenerativeAIEmbeddings(\n",
    "    model=\"models/embedding-001\", google_api_key=GOOGLE_API_KEY)\n",
    "db = FAISS.load_local(vector_db_path, embedding,\n",
    "                      allow_dangerous_deserialization=True)"
   ]
  },
  {
   "cell_type": "code",
   "execution_count": 4,
   "metadata": {},
   "outputs": [
    {
     "data": {
      "text/plain": [
       "[Document(metadata={'source': 'data\\\\2310.03714v1.pdf', 'page': 0}, page_content='1arXiv:2310.03714v1  [cs.CL]  5 Oct 2023'),\n",
       " Document(metadata={'source': 'data\\\\2310.03714v1.pdf', 'page': 14}, page_content='ciates, Inc., 2018. URL https://proceedings.neurips.cc/paper files/paper/2018/file/\\n34e157766f31db3d2099831d348a7933-Paper.pdf .\\n15'),\n",
       " Document(metadata={'source': 'data\\\\2310.03714v1.pdf', 'page': 25}, page_content='Preprint\\n1 A list of documents is shown below. Each document has a number next to it along with a summary of the document. A question\\nis also provided.\\n2 Respond with the numbers of the documents you should consult to answer the question, in order of relevance, as well as the\\nrelevance score.\\n3 The relevance score is a number from 1-10 based on how relevant you think the document is to the question.\\n4 Do not include any documents that are not relevant to the question.\\n5\\n6 Example format:\\n7 Document 1:'),\n",
       " Document(metadata={'source': 'data\\\\file.pdf', 'page': 3}, page_content='inception-resnet and the impact of residual connections on\\nlearning. In Proceedings of the AAAI conference on artifi-\\ncial intelligence , volume 31, 2017.')]"
      ]
     },
     "execution_count": 4,
     "metadata": {},
     "output_type": "execute_result"
    }
   ],
   "source": [
    "db.similarity_search(\"What is topic of paper?\")"
   ]
  },
  {
   "cell_type": "code",
   "execution_count": null,
   "metadata": {},
   "outputs": [],
   "source": []
  }
 ],
 "metadata": {
  "kernelspec": {
   "display_name": "Python 3",
   "language": "python",
   "name": "python3"
  },
  "language_info": {
   "codemirror_mode": {
    "name": "ipython",
    "version": 3
   },
   "file_extension": ".py",
   "mimetype": "text/x-python",
   "name": "python",
   "nbconvert_exporter": "python",
   "pygments_lexer": "ipython3",
   "version": "3.10.6"
  }
 },
 "nbformat": 4,
 "nbformat_minor": 2
}
